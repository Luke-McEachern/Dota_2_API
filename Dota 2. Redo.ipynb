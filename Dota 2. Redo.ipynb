{
 "cells": [
  {
   "cell_type": "code",
   "execution_count": 1,
   "metadata": {
    "collapsed": true
   },
   "outputs": [],
   "source": [
    "import pandas as pd\n",
    "import numpy as np\n",
    "import dota2api as d2\n",
    "import re\n",
    "import requests\n",
    "import inspect"
   ]
  },
  {
   "cell_type": "code",
   "execution_count": 2,
   "metadata": {},
   "outputs": [
    {
     "data": {
      "text/plain": [
       "6431"
      ]
     },
     "execution_count": 2,
     "metadata": {},
     "output_type": "execute_result"
    }
   ],
   "source": [
    "#team IDs\n",
    "\n",
    "teams=re.findall('\"team_id\":(.+?),\"', str(requests.get('https://api.opendota.com/api/teams').content))\n",
    "len(teams)"
   ]
  },
  {
   "cell_type": "code",
   "execution_count": 3,
   "metadata": {},
   "outputs": [
    {
     "data": {
      "text/plain": [
       "6431"
      ]
     },
     "execution_count": 3,
     "metadata": {},
     "output_type": "execute_result"
    }
   ],
   "source": [
    "#Team names\n",
    "\n",
    "teams_names=re.findall('\"name\":\"(.+?)\",\"', str(requests.get('https://api.opendota.com/api/teams').content))\n",
    "len(teams_names)"
   ]
  },
  {
   "cell_type": "code",
   "execution_count": 4,
   "metadata": {
    "collapsed": true
   },
   "outputs": [],
   "source": [
    "api=d2.Initialise(\"760552CBCC35C09BF2FB92CC53C42EF6\",raw_mode=False) #betterbets.net"
   ]
  },
  {
   "cell_type": "code",
   "execution_count": 5,
   "metadata": {
    "collapsed": true
   },
   "outputs": [],
   "source": [
    "# for loop method: [USED METHOD]\n",
    "#Getting player ID's based on team ID\n",
    "\n",
    "def player_ids(team):\n",
    "    team_i=api.get_team_info_by_team_id(start_at_team_id=team, teams_requested=1)\n",
    "    players=[]\n",
    "    \n",
    "    players.append(re.findall(\"0_account_id': (.+?), '\",str(team_i)))\n",
    "    players.append(re.findall(\"1_account_id': (.+?), '\",str(team_i)))\n",
    "    players.append(re.findall(\"2_account_id': (.+?), '\",str(team_i)))\n",
    "    players.append(re.findall(\"3_account_id': (.+?), '\",str(team_i)))\n",
    "    players.append(re.findall(\"4_account_id': (.+?), '\",str(team_i)))\n",
    "    players.append(re.findall(\"5_account_id': (.+?), '\",str(team_i)))\n",
    "    \n",
    "    flat_list = [item for sublist in players for item in sublist]\n",
    "    \n",
    "    return(flat_list)"
   ]
  },
  {
   "cell_type": "code",
   "execution_count": 6,
   "metadata": {
    "collapsed": true
   },
   "outputs": [],
   "source": [
    "#list comprehension method (try and fix)\n",
    "\n",
    "#def player_ids(team):\n",
    "#    team_i=api.get_team_info_by_team_id(start_at_team_id=team, teams_requested=1)\n",
    "#    try:\n",
    "#        return([ item[0] for sublist in [(re.findall(\"1_account_id': (.+?), '\",str(team_i)),\n",
    "#                            re.findall(\"2_account_id': (.+?), '\",str(team_i)),\n",
    "#                            re.findall(\"3_account_id': (.+?), '\",str(team_i)),\n",
    "#                            re.findall(\"4_account_id': (.+?), '\",str(team_i)),\n",
    "#                           re.findall(\"5_account_id': (.+?), '\",str(team_i)))] for item in sublist])\n",
    "#    except:\n",
    "#         return([ item[0] for sublist in [(re.findall(\"1_account_id': (.+?), '\",str(team_i)),\n",
    "#                            re.findall(\"2_account_id': (.+?), '\",str(team_i)),\n",
    "#                            re.findall(\"3_account_id': (.+?), '\",str(team_i)),\n",
    "#                            re.findall(\"4_account_id': (.+?), '\",str(team_i)))] for item in sublist])\n",
    "#    else:\n",
    "#        return([ item[0] for sublist in [(re.findall(\"1_account_id': (.+?), '\",str(team_i)),\n",
    "#                            re.findall(\"2_account_id': (.+?), '\",str(team_i)),\n",
    "#                            re.findall(\"3_account_id': (.+?), '\",str(team_i)))] for item in sublist])       \n",
    "#player_ids(teams[0])"
   ]
  },
  {
   "cell_type": "code",
   "execution_count": 7,
   "metadata": {
    "collapsed": true
   },
   "outputs": [],
   "source": [
    "#for loop method (works but slow) [USED METHOD]\n",
    "\n",
    "#players=[]\n",
    "\n",
    "#for i in range(len(teams)):\n",
    "#    players.append(player_ids(teams[i]))\n",
    "#    \n",
    "#    players_flat=[item for sublist in players for item in sublist]\n",
    "#    "
   ]
  },
  {
   "cell_type": "code",
   "execution_count": 8,
   "metadata": {
    "collapsed": true
   },
   "outputs": [],
   "source": [
    "#players_flat_unique=np.unique(players_flat)\n",
    "#players_flat_unique=pd.DataFrame(players_flat_unique)\n",
    "#players_flat_unique.to_csv('players.csv', encoding='utf-8')\n",
    "\n",
    "players=pd.read_csv('players.csv')\n",
    "players=players['0'].tolist()"
   ]
  },
  {
   "cell_type": "code",
   "execution_count": 9,
   "metadata": {
    "collapsed": true
   },
   "outputs": [],
   "source": [
    "#for loop method (works, but slow)  [USED]\n",
    "#getting match_ids\n",
    "\n",
    "#matches=[] \n",
    "\n",
    "#for i in range(len(players)):\n",
    "#    try:\n",
    "#        matches.append(api.get_match_history(players[i]))\n",
    "#    except:\n",
    "#        print(\"This user hasn't shared their profile\", i)"
   ]
  },
  {
   "cell_type": "code",
   "execution_count": 10,
   "metadata": {
    "collapsed": true
   },
   "outputs": [],
   "source": [
    "#matchesdf=pd.DataFrame(matches)\n",
    "#matchesdf.to_csv('matches.csv', encoding='utf-8')"
   ]
  },
  {
   "cell_type": "code",
   "execution_count": 11,
   "metadata": {
    "collapsed": true
   },
   "outputs": [],
   "source": [
    "matches=pd.read_csv('matches.csv')\n",
    "matches=matches['matches'].tolist()"
   ]
  },
  {
   "cell_type": "code",
   "execution_count": 12,
   "metadata": {
    "collapsed": true
   },
   "outputs": [],
   "source": [
    "match_ids=[]\n",
    "for i in range(len(matches)):\n",
    "    match_ids.append(re.findall(\"match_id': (.+?), '\", matches[i]))\n",
    "    \n",
    "match_ids = [item for sublist in match_ids for item in sublist]\n",
    "match_ids=np.unique(match_ids)"
   ]
  },
  {
   "cell_type": "code",
   "execution_count": 13,
   "metadata": {
    "collapsed": true
   },
   "outputs": [],
   "source": [
    "#properly linking item ID to item name.\n",
    "\n",
    "items=re.findall(\"\\'localized_name\\':(.+?), \\'\",str(str(api.get_game_items())))\n",
    "item_IDs=re.findall(\"\\'id\\': (.+?), \\'\",str(str(api.get_game_items())))\n",
    "\n",
    "for i in range(len(items)):\n",
    "    items[i]=re.sub('^[^a-zA-z]*|[^a-zA-Z]*$','',items[i])\n",
    "    \n",
    "item_dict=dict(zip(item_IDs, items))"
   ]
  },
  {
   "cell_type": "code",
   "execution_count": 14,
   "metadata": {
    "collapsed": true
   },
   "outputs": [],
   "source": [
    "#properly linking hero ID to hero name.\n",
    "\n",
    "heroes=re.findall(\"\\'localized_name\\':(.+?), \\'\",str(str(api.get_heroes())))\n",
    "heroes_IDs=re.findall(\"\\'id\\': (.+?), \\'\",str(str(api.get_heroes())))\n",
    "\n",
    "for i in range(len(heroes)):\n",
    "    heroes[i]=re.sub('^[^a-zA-z]*|[^a-zA-Z]*$','',heroes[i])\n",
    "    \n",
    "heroes_dict=dict(zip(heroes_IDs, heroes))"
   ]
  },
  {
   "cell_type": "code",
   "execution_count": 15,
   "metadata": {
    "collapsed": true
   },
   "outputs": [],
   "source": [
    "#getting match_details for a sample of 10,000\n",
    "\n",
    "#data_frame=[]\n",
    "\n",
    "#for i in range(0,10000):\n",
    "#    data_frame.append(api.get_match_details(match_id=match_ids[i]))"
   ]
  },
  {
   "cell_type": "code",
   "execution_count": 16,
   "metadata": {
    "collapsed": true
   },
   "outputs": [],
   "source": [
    "#writing to file.\n",
    "\n",
    "#f = open(\"myfile\", \"w\")\n",
    "#f.write(\"\\n\".join(map(lambda x: str(x), data_frame)))\n",
    "#f.close()"
   ]
  },
  {
   "cell_type": "code",
   "execution_count": 17,
   "metadata": {
    "collapsed": true
   },
   "outputs": [],
   "source": [
    "'read in data file produced in the above two cells'\n",
    "text_file = open(\"myfile.txt\", \"r\")\n",
    "data_frame = text_file.read().split(\"\\n\")"
   ]
  },
  {
   "cell_type": "code",
   "execution_count": 18,
   "metadata": {
    "collapsed": true
   },
   "outputs": [],
   "source": [
    "#fixing up a weird exception where some data was changed. I'm sure there's others, but here's one I noticed\n",
    "#else, if you want to maintain integrity of the data, change \"replacer\" to \"data_frame\" below.\n",
    "\n",
    "A=[]\n",
    "D=[]\n",
    "\n",
    "for i in range(len(data_frame)):\n",
    "        A.append(str(data_frame[i]).split(\"\\'additional_units\\':\")[0])\n",
    "        try:\n",
    "            D.append(str(data_frame[i]).split(\"}], \\'hero_name\\':\")[1])\n",
    "        except:\n",
    "            D.append(\"\")\n",
    "            \n",
    "replacer=[]  \n",
    "\n",
    "for i in range(len(data_frame)):\n",
    "    if len(D[i])==0:\n",
    "        replacer.append(data_frame[i])\n",
    "    else:\n",
    "        replacer.append(A[i]+\"\\'hero_name\\':\"+D[i])"
   ]
  },
  {
   "cell_type": "code",
   "execution_count": 43,
   "metadata": {
    "collapsed": true
   },
   "outputs": [],
   "source": [
    "#seperating match_details into player details.\n",
    "\n",
    "players=[]\n",
    "\n",
    "for i in range(len(replacer)):\n",
    "    for j in range(10):\n",
    "        try:\n",
    "            players.append(replacer[i].split(\"}\")[j])\n",
    "        except:\n",
    "            players.append(\"\")\n",
    "            \n",
    "#in format: player 1(game 1), player 2(game 1),....,player 1(game 2), player 2(game 2),...,"
   ]
  },
  {
   "cell_type": "code",
   "execution_count": 44,
   "metadata": {
    "collapsed": true
   },
   "outputs": [],
   "source": [
    "import json\n",
    "with open('json_sample.txt', 'w') as outfile:\n",
    "    json.dump(players, outfile)"
   ]
  },
  {
   "cell_type": "code",
   "execution_count": null,
   "metadata": {
    "collapsed": true
   },
   "outputs": [],
   "source": []
  }
 ],
 "metadata": {
  "kernelspec": {
   "display_name": "Python 3",
   "language": "python",
   "name": "python3"
  },
  "language_info": {
   "codemirror_mode": {
    "name": "ipython",
    "version": 3
   },
   "file_extension": ".py",
   "mimetype": "text/x-python",
   "name": "python",
   "nbconvert_exporter": "python",
   "pygments_lexer": "ipython3",
   "version": "3.6.1"
  }
 },
 "nbformat": 4,
 "nbformat_minor": 2
}
